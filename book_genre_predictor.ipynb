{
 "cells": [
  {
   "cell_type": "code",
   "execution_count": 1,
   "metadata": {},
   "outputs": [],
   "source": [
    "from fastai.vision.all import *\n",
    "from fastai.vision.widgets import *\n",
    "\n",
    "# hack to get around the fact that FastAI changed semantics after this model was created\n",
    "import fastai.losses\n",
    "import fastai.layers\n",
    "\n",
    "fastai.layers.BaseLoss = fastai.losses.BaseLoss\n",
    "fastai.layers.CrossEntropyLossFlat = fastai.losses.CrossEntropyLossFlat\n",
    "fastai.layers.BCEWithLogitsLossFlat = fastai.losses.BCEWithLogitsLossFlat\n",
    "fastai.layers.BCELossFlat = fastai.losses.BCELossFlat\n",
    "fastai.layers.MSELossFlat = fastai.losses.MSELossFlat\n",
    "fastai.layers.L1LossFlat = fastai.losses.L1LossFlat\n",
    "fastai.layers.LabelSmoothingCrossEntropy = fastai.losses.LabelSmoothingCrossEntropy\n",
    "fastai.layers.LabelSmoothingCrossEntropyFlat = fastai.losses.LabelSmoothingCrossEntropyFlat"
   ]
  },
  {
   "cell_type": "code",
   "execution_count": 2,
   "metadata": {},
   "outputs": [],
   "source": [
    "def get_x_genre(df): return path+'imgs/'+str(df['bookID'])+'.jpg'\n",
    "def get_y_genre(df): return df['top_genres']\n",
    "\n",
    "learn_inf = load_learner('export_genre_predictor.pkl')"
   ]
  },
  {
   "cell_type": "code",
   "execution_count": 3,
   "metadata": {},
   "outputs": [],
   "source": [
    "btn_upload = widgets.FileUpload()\n",
    "out_pl = widgets.Output()\n",
    "lbl_pred = widgets.Label()\n",
    "btn_run = widgets.Button(description='Predict genres')"
   ]
  },
  {
   "cell_type": "code",
   "execution_count": 4,
   "metadata": {},
   "outputs": [],
   "source": [
    "def on_click(change):\n",
    "    out_pl.clear_output()\n",
    "    img = PILImage.create(btn_upload.data[-1])\n",
    "    with out_pl: display(img.to_thumb(128,128))\n",
    "    genres = list(learn_inf.predict(img)[0])\n",
    "    out = \", \".join(genres) if len(genres) > 0 else \"none\"\n",
    "    lbl_pred.value = f'Predicted genres: {out}'"
   ]
  },
  {
   "cell_type": "code",
   "execution_count": 5,
   "metadata": {},
   "outputs": [],
   "source": [
    "btn_upload.observe(on_click, names={'data'})"
   ]
  },
  {
   "cell_type": "code",
   "execution_count": 6,
   "metadata": {},
   "outputs": [
    {
     "data": {
      "application/vnd.jupyter.widget-view+json": {
       "model_id": "1ae3db34f90a4914ab4f6e2ea8d01fa4",
       "version_major": 2,
       "version_minor": 0
      },
      "text/plain": [
       "VBox(children=(Label(value='Predict genre of a book by its cover!'), FileUpload(value={}, description='Upload'…"
      ]
     },
     "metadata": {},
     "output_type": "display_data"
    },
    {
     "data": {
      "text/html": [],
      "text/plain": [
       "<IPython.core.display.HTML object>"
      ]
     },
     "metadata": {},
     "output_type": "display_data"
    },
    {
     "data": {
      "text/html": [],
      "text/plain": [
       "<IPython.core.display.HTML object>"
      ]
     },
     "metadata": {},
     "output_type": "display_data"
    }
   ],
   "source": [
    "display(VBox([widgets.Label('Predict genre of a book by its cover!'), \n",
    "      btn_upload, out_pl, lbl_pred, widgets.Label('See more: https://github.com/whitakk/book_covers/blob/master/book_covers_analysis.ipynb')]))"
   ]
  },
  {
   "cell_type": "code",
   "execution_count": null,
   "metadata": {},
   "outputs": [],
   "source": []
  }
 ],
 "metadata": {
  "kernelspec": {
   "display_name": "Python 3",
   "language": "python",
   "name": "python3"
  },
  "language_info": {
   "codemirror_mode": {
    "name": "ipython",
    "version": 3
   },
   "file_extension": ".py",
   "mimetype": "text/x-python",
   "name": "python",
   "nbconvert_exporter": "python",
   "pygments_lexer": "ipython3",
   "version": "3.7.1"
  }
 },
 "nbformat": 4,
 "nbformat_minor": 4
}
