{
 "cells": [
  {
   "cell_type": "markdown",
   "metadata": {},
   "source": [
    "Purpose: Get a random set of books with GoodReads reviews and their covers"
   ]
  },
  {
   "cell_type": "code",
   "execution_count": 1,
   "metadata": {},
   "outputs": [],
   "source": [
    "import pandas as pd\n",
    "import numpy as np \n",
    "\n",
    "import requests\n",
    "from bs4 import BeautifulSoup \n",
    "\n",
    "import time"
   ]
  },
  {
   "cell_type": "markdown",
   "metadata": {},
   "source": [
    "### 1. Get set of books\n",
    "\n",
    "We'll use a a random subset of books from this Kaggle dataset: https://www.kaggle.com/jealousleopard/goodreadsbooks?select=books.csv\n",
    "\n",
    "(note a few records had to be cleaned in the csv for inconsistent formatting) "
   ]
  },
  {
   "cell_type": "code",
   "execution_count": 2,
   "metadata": {},
   "outputs": [
    {
     "data": {
      "text/plain": [
       "11127"
      ]
     },
     "execution_count": 2,
     "metadata": {},
     "output_type": "execute_result"
    }
   ],
   "source": [
    "books = pd.read_csv('books.csv')\n",
    "len(books)"
   ]
  },
  {
   "cell_type": "code",
   "execution_count": 3,
   "metadata": {},
   "outputs": [
    {
     "data": {
      "text/plain": [
       "9239"
      ]
     },
     "execution_count": 3,
     "metadata": {},
     "output_type": "execute_result"
    }
   ],
   "source": [
    "# only choose books with at least 50 reviews - arbitrary threshold to get reasonably accurate rating\n",
    "books = books[books['ratings_count']>=50]\n",
    "len(books)"
   ]
  },
  {
   "cell_type": "code",
   "execution_count": 4,
   "metadata": {},
   "outputs": [],
   "source": [
    "# choose a more manageable sample\n",
    "sample = books.sample(1000, random_state=11)"
   ]
  },
  {
   "cell_type": "markdown",
   "metadata": {},
   "source": [
    "### 2. Download images\n",
    "\n",
    "GoodReads' API doesn't have images for the most part, so we have to do this by web"
   ]
  },
  {
   "cell_type": "code",
   "execution_count": 11,
   "metadata": {},
   "outputs": [],
   "source": [
    "# download pictures\n",
    "\n",
    "# pick up from break\n",
    "ix = 897\n",
    "\n",
    "for i in sample['bookID'][ix:]: \n",
    "    url = f'https://www.goodreads.com/book/show/{i}'\n",
    "    \n",
    "    r = requests.get(url)\n",
    "    soup = BeautifulSoup(r.content, 'html.parser')\n",
    "    \n",
    "    try:\n",
    "        img_url = soup.find(id='coverImage').get('src')\n",
    "    except AttributeError: \n",
    "        time.sleep(600)\n",
    "        r = requests.get(url)\n",
    "        soup = BeautifulSoup(r.content, 'html.parser')\n",
    "        img_url = soup.find(id='coverImage').get('src')\n",
    "    \n",
    "    r2 = requests.get(img_url)\n",
    "\n",
    "    file = open(f'imgs/{i}.jpg', \"wb\")\n",
    "    file.write(r2.content)\n",
    "    file.close()\n",
    "    \n",
    "    # limit rate\n",
    "    time.sleep(10)"
   ]
  }
 ],
 "metadata": {
  "kernelspec": {
   "display_name": "Python 3",
   "language": "python",
   "name": "python3"
  },
  "language_info": {
   "codemirror_mode": {
    "name": "ipython",
    "version": 3
   },
   "file_extension": ".py",
   "mimetype": "text/x-python",
   "name": "python",
   "nbconvert_exporter": "python",
   "pygments_lexer": "ipython3",
   "version": "3.7.1"
  }
 },
 "nbformat": 4,
 "nbformat_minor": 2
}
